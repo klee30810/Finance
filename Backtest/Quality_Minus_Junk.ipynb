{
 "cells": [
  {
   "cell_type": "markdown",
   "id": "996317e0",
   "metadata": {},
   "source": [
    "# Quality Minus Junk\n",
    "Asness, Clifford S., Andrea Frazzini, and Lasse Heje Pedersen. \"Quality minus junk.\" Review of Accounting Studies 24.1 (2019): 34-112."
   ]
  },
  {
   "cell_type": "code",
   "execution_count": null,
   "id": "2a56525a",
   "metadata": {},
   "outputs": [],
   "source": []
  }
 ],
 "metadata": {
  "kernelspec": {
   "display_name": "Python 3",
   "language": "python",
   "name": "python3"
  },
  "language_info": {
   "codemirror_mode": {
    "name": "ipython",
    "version": 3
   },
   "file_extension": ".py",
   "mimetype": "text/x-python",
   "name": "python",
   "nbconvert_exporter": "python",
   "pygments_lexer": "ipython3",
   "version": "3.9.4"
  }
 },
 "nbformat": 4,
 "nbformat_minor": 5
}
